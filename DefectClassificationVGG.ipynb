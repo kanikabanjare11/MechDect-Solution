{
  "cells": [
    {
      "cell_type": "markdown",
      "metadata": {
        "id": "F4bdJmHDxfFM"
      },
      "source": [
        "# Defect Classification Model\n",
        "\n",
        "Here, we build a model to classify defects on a metal surface using Transfer Learning (with VGG16 base model).\n",
        "\n",
        "**Dataset:** [Metal Surface Defects Dataset](https://www.kaggle.com/fantacher/neu-metal-surface-defects-data)"
      ]
    },
    {
      "cell_type": "markdown",
      "metadata": {
        "id": "mqod5DQtxi7y"
      },
      "source": [
        "## Preliminaries"
      ]
    },
    {
      "cell_type": "code",
      "execution_count": null,
      "metadata": {
        "colab": {
          "base_uri": "https://localhost:8080/"
        },
        "id": "KTZb-oezup9R",
        "outputId": "1570172f-c70c-4baf-b866-4d3c2b198209"
      },
      "outputs": [
        {
          "output_type": "stream",
          "name": "stdout",
          "text": [
            "Mounted at /content/drive\n"
          ]
        }
      ],
      "source": [
        "from google.colab import drive\n",
        "drive.mount('/content/drive')"
      ]
    },
    {
      "cell_type": "code",
      "execution_count": null,
      "metadata": {
        "id": "sZUn5-XP-XMl"
      },
      "outputs": [],
      "source": [
        "import os\n",
        "os.chdir(\"/content/drive/My Drive/ME781/Project/defect_classification\")"
      ]
    },
    {
      "cell_type": "code",
      "execution_count": null,
      "metadata": {
        "id": "dhJuHrET-XTR"
      },
      "outputs": [],
      "source": [
        "import matplotlib\n",
        "matplotlib.use(\"Agg\")\n",
        "\n",
        "import tensorflow as tf\n",
        "import matplotlib.pyplot as plt\n",
        "import matplotlib.gridspec as gridspec\n",
        "from keras.preprocessing.image import ImageDataGenerator\n",
        "from keras import Sequential\n",
        "from keras.optimizers import Adam\n",
        "from keras.layers import Input\n",
        "from keras.models import Model\n",
        "from keras.applications import VGG16\n",
        "from keras.layers import Flatten, Dense, Dropout\n",
        "from keras.preprocessing import image\n",
        "import numpy as np\n",
        "import os\n",
        "from sklearn.metrics import classification_report, confusion_matrix\n",
        "\n",
        "%matplotlib inline"
      ]
    },
    {
      "cell_type": "markdown",
      "metadata": {
        "id": "afyyJTBKxwxr"
      },
      "source": [
        "## Model Architecture [Using VGG16 as Base Model]"
      ]
    },
    {
      "cell_type": "code",
      "execution_count": null,
      "metadata": {
        "id": "Vpi-_9pJspOW"
      },
      "outputs": [],
      "source": [
        "CLASSES = 6       # Here, there are 6 classes of defects ['Crazing', 'Inclusion', 'Patches', 'Pitted', 'Rolled','Scratches']\n",
        "HEIGHT = 224\n",
        "WIDTH = 224\n",
        "CHANNELS = 3"
      ]
    },
    {
      "cell_type": "code",
      "execution_count": null,
      "metadata": {
        "colab": {
          "base_uri": "https://localhost:8080/"
        },
        "id": "QOofABd4-XXC",
        "outputId": "73f811aa-cdb0-4f9c-aa18-2a7cee0debe4"
      },
      "outputs": [
        {
          "output_type": "stream",
          "name": "stdout",
          "text": [
            "Downloading data from https://storage.googleapis.com/tensorflow/keras-applications/vgg16/vgg16_weights_tf_dim_ordering_tf_kernels_notop.h5\n",
            "58889256/58889256 [==============================] - 0s 0us/step\n"
          ]
        }
      ],
      "source": [
        "baseModel = VGG16(weights=\"imagenet\", include_top=False,\n",
        "\tinput_tensor=Input(shape=(WIDTH, HEIGHT, CHANNELS)))\n",
        "\n",
        "# Enable Transfer Learning by freezing weights of the base VGG16 Model\n",
        "for layer in baseModel.layers:\n",
        "\tlayer.trainable = False\n",
        "\n",
        "model = Sequential()\n",
        "model.add(baseModel)\n",
        "model.add(Flatten(name=\"flatten\"))\n",
        "model.add(Dense(1024, activation='relu'))\n",
        "model.add(Dropout(0.5))\n",
        "model.add(Dense(256, activation='relu'))\n",
        "model.add(Dropout(0.5))\n",
        "model.add(Dense(CLASSES, activation='softmax'))"
      ]
    },
    {
      "cell_type": "code",
      "execution_count": null,
      "metadata": {
        "colab": {
          "base_uri": "https://localhost:8080/"
        },
        "id": "9NISlKwLs0m_",
        "outputId": "baf4315a-1bbe-427b-f4f4-10f570858240"
      },
      "outputs": [
        {
          "output_type": "stream",
          "name": "stdout",
          "text": [
            "Model: \"sequential\"\n",
            "_________________________________________________________________\n",
            " Layer (type)                Output Shape              Param #   \n",
            "=================================================================\n",
            " vgg16 (Functional)          (None, 7, 7, 512)         14714688  \n",
            "                                                                 \n",
            " flatten (Flatten)           (None, 25088)             0         \n",
            "                                                                 \n",
            " dense (Dense)               (None, 1024)              25691136  \n",
            "                                                                 \n",
            " dropout (Dropout)           (None, 1024)              0         \n",
            "                                                                 \n",
            " dense_1 (Dense)             (None, 256)               262400    \n",
            "                                                                 \n",
            " dropout_1 (Dropout)         (None, 256)               0         \n",
            "                                                                 \n",
            " dense_2 (Dense)             (None, 6)                 1542      \n",
            "                                                                 \n",
            "=================================================================\n",
            "Total params: 40669766 (155.14 MB)\n",
            "Trainable params: 25955078 (99.01 MB)\n",
            "Non-trainable params: 14714688 (56.13 MB)\n",
            "_________________________________________________________________\n"
          ]
        }
      ],
      "source": [
        "model.summary()"
      ]
    },
    {
      "cell_type": "markdown",
      "metadata": {
        "id": "Yi7bOphRx2i6"
      },
      "source": [
        "## Dataset Preparation"
      ]
    },
    {
      "cell_type": "code",
      "execution_count": null,
      "metadata": {
        "id": "6v-bCuen-XZc"
      },
      "outputs": [],
      "source": [
        "# Image preprocessing for robustness\n",
        "train_datagen = ImageDataGenerator(\n",
        "    rescale=1./255,\n",
        "    rotation_range=20,\n",
        "    shear_range=0.2,\n",
        "    zoom_range=0.2,\n",
        "    horizontal_flip=True,\n",
        "    vertical_flip=True\n",
        ")\n",
        "\n",
        "valid_datagen = ImageDataGenerator(\n",
        "    rescale=1./255,\n",
        "    rotation_range=20,\n",
        "    shear_range=0.2,\n",
        "    zoom_range=0.2,\n",
        "    horizontal_flip=True,\n",
        "    vertical_flip=True\n",
        ")\n",
        "\n",
        "test_datagen = ImageDataGenerator(rescale=1./255)"
      ]
    },
    {
      "cell_type": "code",
      "execution_count": null,
      "metadata": {
        "colab": {
          "base_uri": "https://localhost:8080/"
        },
        "id": "K5J7xCMy-Xbt",
        "outputId": "c116c5f6-fce0-485a-e017-bb0f43505b61"
      },
      "outputs": [
        {
          "output_type": "stream",
          "name": "stdout",
          "text": [
            "[INFO] loading images...\n",
            "Found 1656 images belonging to 6 classes.\n",
            "Found 72 images belonging to 6 classes.\n",
            "Found 72 images belonging to 6 classes.\n"
          ]
        }
      ],
      "source": [
        "BATCH_SIZE = 36\n",
        "\n",
        "print(\"[INFO] loading images...\")\n",
        "train_data_dir = \"/content/drive/My Drive/ME781/Project/defect_classification/train\"        # directory of training data\n",
        "valid_data_dir = \"/content/drive/My Drive/ME781/Project/defect_classification/valid\"        # directory of validation data\n",
        "test_data_dir = \"/content/drive/My Drive/ME781/Project/defect_classification/test\"          # directory of test data\n",
        "\n",
        "training_set = train_datagen.flow_from_directory(train_data_dir,\n",
        "                                                 target_size=(WIDTH, HEIGHT),\n",
        "                                                 batch_size=BATCH_SIZE,\n",
        "                                                 class_mode='categorical')\n",
        "validation_set = train_datagen.flow_from_directory(valid_data_dir,\n",
        "                                                 target_size=(WIDTH, HEIGHT),\n",
        "                                                 batch_size=BATCH_SIZE,\n",
        "                                                 class_mode='categorical')\n",
        "test_set = test_datagen.flow_from_directory(test_data_dir,\n",
        "                                            target_size=(WIDTH, HEIGHT),\n",
        "                                            batch_size=BATCH_SIZE,\n",
        "                                            class_mode='categorical',\n",
        "                                            shuffle=False)"
      ]
    },
    {
      "cell_type": "markdown",
      "metadata": {
        "id": "3sam5b5Ox7Sy"
      },
      "source": [
        "## Model training"
      ]
    },
    {
      "cell_type": "code",
      "execution_count": null,
      "metadata": {
        "colab": {
          "base_uri": "https://localhost:8080/"
        },
        "id": "aVJ5uDlg-0iT",
        "outputId": "0894834a-d764-42d4-de2a-d593a2848223"
      },
      "outputs": [
        {
          "output_type": "stream",
          "name": "stdout",
          "text": [
            "[INFO] compiling model...\n"
          ]
        }
      ],
      "source": [
        "print(\"[INFO] compiling model...\")\n",
        "\n",
        "model.compile(\n",
        "    loss=\"categorical_crossentropy\",\n",
        "    optimizer = Adam(learning_rate=0.001),\n",
        "    metrics=[\"accuracy\"]\n",
        ")"
      ]
    },
    {
      "cell_type": "code",
      "execution_count": null,
      "metadata": {
        "colab": {
          "base_uri": "https://localhost:8080/"
        },
        "id": "8-JtBM5f-6IS",
        "outputId": "85320633-fa2b-4134-e2a2-b993fc398d2f"
      },
      "outputs": [
        {
          "output_type": "stream",
          "name": "stdout",
          "text": [
            "[INFO] training model...\n",
            "Epoch 1/10\n",
            "46/46 [==============================] - 1207s 26s/step - loss: 1.9642 - accuracy: 0.5072 - val_loss: 0.3958 - val_accuracy: 0.9167\n",
            "Epoch 2/10\n",
            "46/46 [==============================] - 1218s 26s/step - loss: 0.5386 - accuracy: 0.8062 - val_loss: 0.1602 - val_accuracy: 0.9444\n",
            "Epoch 3/10\n",
            "46/46 [==============================] - 1214s 26s/step - loss: 0.3801 - accuracy: 0.8690 - val_loss: 0.1226 - val_accuracy: 0.9861\n",
            "Epoch 4/10\n",
            "46/46 [==============================] - 1221s 27s/step - loss: 0.3282 - accuracy: 0.8798 - val_loss: 0.1248 - val_accuracy: 0.9861\n",
            "Epoch 5/10\n",
            "46/46 [==============================] - 1180s 26s/step - loss: 0.3231 - accuracy: 0.8877 - val_loss: 0.1416 - val_accuracy: 0.9444\n",
            "Epoch 6/10\n",
            "46/46 [==============================] - 1141s 25s/step - loss: 0.3269 - accuracy: 0.8871 - val_loss: 0.1068 - val_accuracy: 1.0000\n",
            "Epoch 7/10\n",
            "46/46 [==============================] - 1157s 25s/step - loss: 0.2726 - accuracy: 0.9016 - val_loss: 0.0495 - val_accuracy: 0.9861\n",
            "Epoch 8/10\n",
            "46/46 [==============================] - 1157s 25s/step - loss: 0.2881 - accuracy: 0.9022 - val_loss: 0.0733 - val_accuracy: 0.9861\n",
            "Epoch 9/10\n",
            "46/46 [==============================] - 1148s 25s/step - loss: 0.2882 - accuracy: 0.9022 - val_loss: 0.0465 - val_accuracy: 0.9861\n",
            "Epoch 10/10\n",
            "46/46 [==============================] - 1213s 26s/step - loss: 0.2739 - accuracy: 0.9016 - val_loss: 0.0721 - val_accuracy: 0.9861\n"
          ]
        }
      ],
      "source": [
        "print(\"[INFO] training model...\")\n",
        "\n",
        "EPOCHS = 10\n",
        "\n",
        "history = model.fit(\n",
        "    training_set,\n",
        "    epochs=EPOCHS,\n",
        "    steps_per_epoch=training_set.samples//BATCH_SIZE,\n",
        "    validation_data=validation_set,\n",
        "    validation_steps=validation_set.samples//BATCH_SIZE\n",
        ")"
      ]
    },
    {
      "cell_type": "code",
      "execution_count": null,
      "metadata": {
        "colab": {
          "base_uri": "https://localhost:8080/"
        },
        "id": "5P9Okr9T_Dz_",
        "outputId": "5d3a9e8e-a4b1-41a6-b17f-840ebd4a36b9"
      },
      "outputs": [
        {
          "output_type": "stream",
          "name": "stdout",
          "text": [
            "[Info] serializing network...\n"
          ]
        },
        {
          "output_type": "stream",
          "name": "stderr",
          "text": [
            "/usr/local/lib/python3.10/dist-packages/keras/src/engine/training.py:3079: UserWarning: You are saving your model as an HDF5 file via `model.save()`. This file format is considered legacy. We recommend using instead the native Keras format, e.g. `model.save('my_model.keras')`.\n",
            "  saving_api.save_model(\n"
          ]
        }
      ],
      "source": [
        "# Save the model\n",
        "print(\"[Info] serializing network...\")\n",
        "model.save(\"defect_classification_vgg16.hdf5\")"
      ]
    },
    {
      "cell_type": "code",
      "execution_count": null,
      "metadata": {
        "id": "0tgNtCn3uRIn"
      },
      "outputs": [],
      "source": [
        "# Function to plot the accuracy & losses over epochs of training\n",
        "\n",
        "def plot_training(history):\n",
        "    acc = history.history['accuracy']\n",
        "    val_acc = history.history['val_accuracy']\n",
        "    loss = history.history['loss']\n",
        "    val_loss = history.history['val_loss']\n",
        "    epochs = range(1, len(acc)+1)\n",
        "\n",
        "    plt.figure(figsize=(16, 8))\n",
        "\n",
        "    plt.subplot(1, 2, 1)\n",
        "    plt.plot(epochs, acc, 'b*--', label=\"Training Accuracy\")\n",
        "    plt.plot(epochs, val_acc, 'rD:', label=\"Validation Accuracy\")\n",
        "    plt.legend()\n",
        "    plt.title('Training and validation accuracy')\n",
        "\n",
        "    plt.subplot(1, 2, 2)\n",
        "    plt.plot(epochs, loss, 'b*--', label=\"Training Loss\")\n",
        "    plt.plot(epochs, val_loss, 'rD:', label=\"Validation Loss\")\n",
        "    plt.legend()\n",
        "    plt.title('Training and validation loss')\n",
        "\n",
        "    plt.savefig(\"defect_classification_model.png\", bbox_inches=\"tight\")\n",
        "    plt.show()"
      ]
    },
    {
      "cell_type": "code",
      "execution_count": null,
      "metadata": {
        "colab": {
          "base_uri": "https://localhost:8080/",
          "height": 699
        },
        "id": "ld7aS3SxwVj0",
        "outputId": "04cd7fd0-04d2-41cc-8ea9-c23a355e9f5b"
      },
      "outputs": [
        {
          "output_type": "display_data",
          "data": {
            "text/plain": [
              "<Figure size 1600x800 with 2 Axes>"
            ],
            "image/png": "[encoded data removed]"
          },
          "metadata": {}
        }
      ],
      "source": [
        "plot_training(history)"
      ]
    },
    {
      "cell_type": "markdown",
      "metadata": {
        "id": "-gy-x1cdyX4T"
      },
      "source": [
        "## Model Evauation"
      ]
    },
    {
      "cell_type": "code",
      "execution_count": null,
      "metadata": {
        "colab": {
          "base_uri": "https://localhost:8080/"
        },
        "id": "D317pAehqNzB",
        "outputId": "9231e57d-bbd0-4285-8f02-92acabded730"
      },
      "outputs": [
        {
          "output_type": "stream",
          "name": "stdout",
          "text": [
            "2/2 [==============================] - 51s 25s/step - loss: 0.0926 - accuracy: 0.9861\n",
            "Test loss: 0.09258830547332764\n",
            "Test accuracy: 0.9861111044883728\n"
          ]
        }
      ],
      "source": [
        "score = model.evaluate(test_set)\n",
        "print('Test loss:', score[0])\n",
        "print('Test accuracy:', score[1])"
      ]
    },
    {
      "cell_type": "code",
      "execution_count": null,
      "metadata": {
        "colab": {
          "base_uri": "https://localhost:8080/"
        },
        "id": "lW4m1OIQqW-9",
        "outputId": "d913b960-1cb7-4cc0-e968-44d81834fab6"
      },
      "outputs": [
        {
          "output_type": "stream",
          "name": "stdout",
          "text": [
            "2/3 [===================>..........] - ETA: 23s"
          ]
        },
        {
          "output_type": "stream",
          "name": "stderr",
          "text": [
            "WARNING:tensorflow:Your input ran out of data; interrupting training. Make sure that your dataset or generator can generate at least `steps_per_epoch * epochs` batches (in this case, 3 batches). You may need to use the repeat() function when building your dataset.\n"
          ]
        },
        {
          "output_type": "stream",
          "name": "stdout",
          "text": [
            "\b\b\b\b\b\b\b\b\b\b\b\b\b\b\b\b\b\b\b\b\b\b\b\b\b\b\b\b\b\b\b\b\b\b\b\b\b\b\b\b\b\b\b\b\b\b\b\r3/3 [==============================] - 46s 12s/step\n"
          ]
        }
      ],
      "source": [
        "pred = model.predict(\n",
        "    test_set,\n",
        "    steps=test_set.samples//BATCH_SIZE + 1,\n",
        "    verbose=1\n",
        ")\n",
        "pred = np.argmax(pred, axis=1)"
      ]
    },
    {
      "cell_type": "code",
      "execution_count": null,
      "metadata": {
        "colab": {
          "base_uri": "https://localhost:8080/"
        },
        "id": "gKj7_nRrrqSX",
        "outputId": "4bf1a24c-0c6d-4b93-cb83-41e26946eab8"
      },
      "outputs": [
        {
          "output_type": "stream",
          "name": "stdout",
          "text": [
            "Confusion Matrix\n",
            "[[12  0  0  0  0  0]\n",
            " [ 0 12  0  0  0  0]\n",
            " [ 0  0 11  1  0  0]\n",
            " [ 0  0  0 12  0  0]\n",
            " [ 0  0  0  0 12  0]\n",
            " [ 0  0  0  0  0 12]]\n",
            "\n",
            "Classification Report\n",
            "              precision    recall  f1-score   support\n",
            "\n",
            "     Crazing       1.00      1.00      1.00        12\n",
            "   Inclusion       1.00      1.00      1.00        12\n",
            "     Patches       1.00      0.92      0.96        12\n",
            "      Pitted       0.92      1.00      0.96        12\n",
            "      Rolled       1.00      1.00      1.00        12\n",
            "   Scratches       1.00      1.00      1.00        12\n",
            "\n",
            "    accuracy                           0.99        72\n",
            "   macro avg       0.99      0.99      0.99        72\n",
            "weighted avg       0.99      0.99      0.99        72\n",
            "\n"
          ]
        }
      ],
      "source": [
        "print('Confusion Matrix')\n",
        "print(confusion_matrix(test_set.classes[test_set.index_array], pred))\n",
        "\n",
        "print('\\nClassification Report')\n",
        "target_names = ['Crazing', 'Inclusion', 'Patches', 'Pitted', 'Rolled','Scratches']\n",
        "print(classification_report(test_set.classes[test_set.index_array], pred, target_names=target_names))"
      ]
    }
  ],
  "metadata": {
    "accelerator": "GPU",
    "colab": {
      "provenance": []
    },
    "kernelspec": {
      "display_name": "Python 3",
      "language": "python",
      "name": "python3"
    },
    "language_info": {
      "codemirror_mode": {
        "name": "ipython",
        "version": 3
      },
      "file_extension": ".py",
      "mimetype": "text/x-python",
      "name": "python",
      "nbconvert_exporter": "python",
      "pygments_lexer": "ipython3",
      "version": "3.7.6"
    }
  },
  "nbformat": 4,
  "nbformat_minor": 0
}